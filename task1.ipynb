{
  "nbformat": 4,
  "nbformat_minor": 0,
  "metadata": {
    "colab": {
      "provenance": [],
      "authorship_tag": "ABX9TyMsL8QDTVOJ98nthSyFsz4e",
      "include_colab_link": true
    },
    "kernelspec": {
      "name": "python3",
      "display_name": "Python 3"
    },
    "language_info": {
      "name": "python"
    }
  },
  "cells": [
    {
      "cell_type": "markdown",
      "metadata": {
        "id": "view-in-github",
        "colab_type": "text"
      },
      "source": [
        "<a href=\"https://colab.research.google.com/github/Vardhan4694/task1/blob/main/task1.ipynb\" target=\"_parent\"><img src=\"https://colab.research.google.com/assets/colab-badge.svg\" alt=\"Open In Colab\"/></a>"
      ]
    },
    {
      "cell_type": "code",
      "execution_count": 1,
      "metadata": {
        "colab": {
          "base_uri": "https://localhost:8080/"
        },
        "id": "pJmIjTbCbVaK",
        "outputId": "a5f00471-106a-4991-d834-28bf2e60cb06"
      },
      "outputs": [
        {
          "output_type": "stream",
          "name": "stdout",
          "text": [
            "Cloning into 'task1'...\n",
            "remote: Enumerating objects: 3, done.\u001b[K\n",
            "remote: Counting objects: 100% (3/3), done.\u001b[K\n",
            "remote: Total 3 (delta 0), reused 0 (delta 0), pack-reused 0 (from 0)\u001b[K\n",
            "Receiving objects: 100% (3/3), done.\n"
          ]
        }
      ],
      "source": [
        "!git clone https://github.com/Vardhan4694/task1.git"
      ]
    },
    {
      "cell_type": "code",
      "source": [
        "# Creating a list\n",
        "my_list = [1, 2, 3, 4, 5]\n",
        "print(\"Original List:\", my_list)\n",
        "\n",
        "# Adding an element to the list\n",
        "my_list.append(6)\n",
        "print(\"List after adding an element:\", my_list)\n",
        "\n",
        "# Removing an element from the list\n",
        "my_list.remove(3)\n",
        "print(\"List after removing an element:\", my_list)\n",
        "\n",
        "# Modifying an element in the list\n",
        "my_list[2] = 10\n",
        "print(\"List after modifying an element:\", my_list)\n",
        "\n",
        "# Inserting an element at a specific index\n",
        "my_list.insert(2, 25)\n",
        "print(\"List after inserting 25 at index 2:\", my_list)\n",
        "\n",
        "# Extending the list with another list\n",
        "my_list.extend([60, 70])\n",
        "print(\"List after extending with [60, 70]:\", my_list)\n",
        "\n",
        "# Slicing the list\n",
        "sub_list = my_list[1:4]\n",
        "print(\"Sub-list (sliced from index 1 to 4):\", sub_list)\n",
        "\n",
        "# Reversing the list\n",
        "my_list.reverse()\n",
        "print(\"Reversed List:\", my_list)\n",
        "\n",
        "# Sorting the list\n",
        "my_list.sort()\n",
        "print(\"Sorted List:\", my_list)\n",
        "\n",
        "# Getting the index of an element\n",
        "index_of_40 = my_list.index(25)\n",
        "print(\"Index of element 40:\", index_of_40)\n",
        "\n",
        "# Counting occurrences of an element\n",
        "count_of_20 = my_list.count(1)\n",
        "print(\"Count of element 20:\", count_of_20)\n"
      ],
      "metadata": {
        "colab": {
          "base_uri": "https://localhost:8080/"
        },
        "id": "pJojVge7b5dl",
        "outputId": "a353c494-35c5-4af8-9d85-6389e399daca"
      },
      "execution_count": 4,
      "outputs": [
        {
          "output_type": "stream",
          "name": "stdout",
          "text": [
            "Original List: [1, 2, 3, 4, 5]\n",
            "List after adding an element: [1, 2, 3, 4, 5, 6]\n",
            "List after removing an element: [1, 2, 4, 5, 6]\n",
            "List after modifying an element: [1, 2, 10, 5, 6]\n",
            "List after inserting 25 at index 2: [1, 2, 25, 10, 5, 6]\n",
            "List after extending with [60, 70]: [1, 2, 25, 10, 5, 6, 60, 70]\n",
            "Sub-list (sliced from index 1 to 4): [2, 25, 10]\n",
            "Reversed List: [70, 60, 6, 5, 10, 25, 2, 1]\n",
            "Sorted List: [1, 2, 5, 6, 10, 25, 60, 70]\n",
            "Index of element 40: 5\n",
            "Count of element 20: 1\n"
          ]
        }
      ]
    },
    {
      "cell_type": "code",
      "source": [
        "# Creating a dictionary\n",
        "my_dict = {'name': 'Alice', 'age': 25, 'city': 'New York'}\n",
        "print(\"\\nOriginal Dictionary:\", my_dict)\n",
        "\n",
        "# Adding a key-value pair to the dictionary\n",
        "my_dict['profession'] = 'Engineer'\n",
        "print(\"Dictionary after adding a key-value pair:\", my_dict)\n",
        "\n",
        "# Removing a key-value pair from the dictionary\n",
        "del my_dict['age']\n",
        "print(\"Dictionary after removing a key-value pair:\", my_dict)\n",
        "\n",
        "# Modifying a value in the dictionary\n",
        "my_dict['city'] = 'San Francisco'\n",
        "print(\"Dictionary after modifying a value:\", my_dict)\n",
        "\n",
        "# Getting the value of a specific key\n",
        "age = my_dict.get('age')\n",
        "print(\"Value associated with key 'age':\", age)\n",
        "\n",
        "# Getting all keys\n",
        "keys = my_dict.keys()\n",
        "print(\"All keys in the dictionary:\", list(keys))\n",
        "\n",
        "# Getting all values\n",
        "values = my_dict.values()\n",
        "print(\"All values in the dictionary:\", list(values))\n",
        "\n",
        "# Getting all key-value pairs\n",
        "items = my_dict.items()\n",
        "print(\"All key-value pairs in the dictionary:\", list(items))\n",
        "\n",
        "# Updating the dictionary with another dictionary\n",
        "my_dict.update({'age': 26, 'profession': 'Engineer'})\n",
        "print(\"Dictionary after update:\", my_dict)\n",
        "\n",
        "# Removing a key-value pair using pop()\n",
        "removed_value = my_dict.pop('city')\n",
        "print(\"Dictionary after popping 'city':\", my_dict)\n",
        "print(\"Popped value:\", removed_value)\n",
        "\n",
        "# Clearing all elements in the dictionary\n",
        "my_dict.clear()\n",
        "print(\"Dictionary after clearing all elements:\", my_dict)\n"
      ],
      "metadata": {
        "colab": {
          "base_uri": "https://localhost:8080/"
        },
        "id": "NSmtSPe1dhnt",
        "outputId": "2a995473-8319-40f4-bb80-e3d963bd0fd8"
      },
      "execution_count": 5,
      "outputs": [
        {
          "output_type": "stream",
          "name": "stdout",
          "text": [
            "\n",
            "Original Dictionary: {'name': 'Alice', 'age': 25, 'city': 'New York'}\n",
            "Dictionary after adding a key-value pair: {'name': 'Alice', 'age': 25, 'city': 'New York', 'profession': 'Engineer'}\n",
            "Dictionary after removing a key-value pair: {'name': 'Alice', 'city': 'New York', 'profession': 'Engineer'}\n",
            "Dictionary after modifying a value: {'name': 'Alice', 'city': 'San Francisco', 'profession': 'Engineer'}\n",
            "Value associated with key 'age': None\n",
            "All keys in the dictionary: ['name', 'city', 'profession']\n",
            "All values in the dictionary: ['Alice', 'San Francisco', 'Engineer']\n",
            "All key-value pairs in the dictionary: [('name', 'Alice'), ('city', 'San Francisco'), ('profession', 'Engineer')]\n",
            "Dictionary after update: {'name': 'Alice', 'city': 'San Francisco', 'profession': 'Engineer', 'age': 26}\n",
            "Dictionary after popping 'city': {'name': 'Alice', 'profession': 'Engineer', 'age': 26}\n",
            "Popped value: San Francisco\n",
            "Dictionary after clearing all elements: {}\n"
          ]
        }
      ]
    },
    {
      "cell_type": "code",
      "source": [
        "my_set = {1, 2, 3, 4, 5}\n",
        "print(\"\\nOriginal Set:\", my_set)\n",
        "\n",
        "# Adding an element to the set\n",
        "my_set.add(6)\n",
        "print(\"Set after adding an element:\", my_set)\n",
        "\n",
        "# Removing an element from the set\n",
        "my_set.discard(3)\n",
        "print(\"Set after removing an element:\", my_set)\n",
        "\n",
        "# Trying to add a duplicate element to the set\n",
        "my_set.add(2)\n",
        "print(\"Set after attempting to add a duplicate element:\", my_set)\n",
        "\n",
        "# Checking membership\n",
        "is_present = 3 in my_set\n",
        "print(\"Is 3 in the set?\", is_present)\n",
        "\n",
        "# Performing union with another set\n",
        "another_set = {4, 5, 6, 7}\n",
        "union_set = my_set.union(another_set)\n",
        "print(\"Union of sets:\", union_set)\n",
        "\n",
        "# Performing intersection with another set\n",
        "intersection_set = my_set.intersection(another_set)\n",
        "print(\"Intersection of sets:\", intersection_set)\n",
        "\n",
        "# Performing difference with another set\n",
        "difference_set = my_set.difference(another_set)\n",
        "print(\"Difference of sets:\", difference_set)\n",
        "\n",
        "# Performing symmetric difference\n",
        "symmetric_diff_set = my_set.symmetric_difference(another_set)\n",
        "print(\"Symmetric Difference of sets:\", symmetric_diff_set)\n",
        "\n",
        "# Checking if a set is a subset\n",
        "is_subset = {1, 2}.issubset(my_set)\n",
        "print(\"Is {1, 2} a subset of my_set?\", is_subset)\n",
        "\n",
        "# Checking if a set is a superset\n",
        "is_superset = my_set.issuperset({1, 2})\n",
        "print(\"Is my_set a superset of {1, 2}?\", is_superset)\n",
        "\n",
        "# Clearing all elements from the set\n",
        "my_set.clear()\n",
        "print(\"Set after clearing all elements:\", my_set)\n"
      ],
      "metadata": {
        "colab": {
          "base_uri": "https://localhost:8080/"
        },
        "id": "sHbaGMnXecOi",
        "outputId": "166975b9-ebeb-4cbe-8682-36b8f6539677"
      },
      "execution_count": 6,
      "outputs": [
        {
          "output_type": "stream",
          "name": "stdout",
          "text": [
            "\n",
            "Original Set: {1, 2, 3, 4, 5}\n",
            "Set after adding an element: {1, 2, 3, 4, 5, 6}\n",
            "Set after removing an element: {1, 2, 4, 5, 6}\n",
            "Set after attempting to add a duplicate element: {1, 2, 4, 5, 6}\n",
            "Is 3 in the set? False\n",
            "Union of sets: {1, 2, 4, 5, 6, 7}\n",
            "Intersection of sets: {4, 5, 6}\n",
            "Difference of sets: {1, 2}\n",
            "Symmetric Difference of sets: {1, 2, 7}\n",
            "Is {1, 2} a subset of my_set? True\n",
            "Is my_set a superset of {1, 2}? True\n",
            "Set after clearing all elements: set()\n"
          ]
        }
      ]
    }
  ]
}